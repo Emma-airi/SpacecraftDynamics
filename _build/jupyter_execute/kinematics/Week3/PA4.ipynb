{
 "cells": [
  {
   "cell_type": "markdown",
   "metadata": {},
   "source": [
    "# JN5: Practice Activity 4\n",
    "<!-- <img src=\"Figures/Door_Wall_modified.png\"> -->\n",
    "```{figure} Figures/Door_Wall_modified.png\n",
    ":name: door-wall-modified\n",
    "\n",
    "Motion of a door $B$ relative to wall $A$.\n",
    "```\n",
    "This notebook use the door-wall example (see figure above).\n",
    "<!-- so that we can complete Practice Activity L3PA3 that is at the very end of the file \"5 Vector Calculus and SymPy\".\n",
    " -->\n",
    "To achieve this task, we introduce two important concepts:\n",
    "1. defining symbols that change with respect to time, using Sympy. We need this because, in the wall-door example above, we know that the angle $\\theta$ changes as a function of time as the door $B$ swings realtive to wall $A$.\n",
    "2. taking time derivatives of vector functions. This is necessary because L3PA3 requires us to compute time derivatives of vector $\\bf r$. Specifically, we are asked to compute $\\frac{^A d}{dt}\\bf r$ and $\\frac{^B d}{dt}\\bf r$."
   ]
  },
  {
   "cell_type": "markdown",
   "metadata": {},
   "source": [
    "# Create time-varying scalars using `dynamicsymbols`\n",
    "By looking at the figure above humans can quite easily interepret that when the door $B$ swings realtive to wall $A$, the angle $\\theta$ between the two objects changes with time. However, computers are not inherently aware of this so we have to be explicit in communicating this to the computer. In sympy, we enforce this by making use of its `dynamicsymbols` feature to create $\\theta$; this is specifically available within `sympy.physics.mechanics`."
   ]
  },
  {
   "cell_type": "code",
   "execution_count": 1,
   "metadata": {},
   "outputs": [],
   "source": [
    "from sympy.physics.mechanics import dynamicsymbols, init_vprinting\n",
    "init_vprinting()\n",
    "theta = dynamicsymbols('theta')"
   ]
  },
  {
   "cell_type": "code",
   "execution_count": 2,
   "metadata": {},
   "outputs": [
    {
     "data": {
      "image/png": "[encoded data removed]",
      "text/latex": [
       "$\\displaystyle \\theta$"
      ],
      "text/plain": [
       "θ"
      ]
     },
     "execution_count": 2,
     "metadata": {},
     "output_type": "execute_result"
    }
   ],
   "source": [
    "theta"
   ]
  },
  {
   "cell_type": "markdown",
   "metadata": {},
   "source": [
    "So, what you see from the above output is that $\\theta$ is now very clearly a funciton of time, i.e., $\\theta(t)$. As we will see in the rest of this interactive discussion, time derivatives of those vectors wherein the angle $\\theta$ appears will automatically result in the emergence of $\\dot \\theta$; the computer is intelligent enough to know how to treat time-varying scalars once you (the coder) has provided it the basic informaton. Remember that the dot is just short-hand for time derivative of a scalar function, i.e., $\\dot \\theta \\triangleq \\frac{d}{dt}\\theta(t)$.\n",
    "\n",
    "# Create constant scalars using `symbols`\n",
    "\n",
    "Then, we create the scalars for the length $l$ and height $h$ of the door by using the `symbols` feature; we have already used these in the previous activities. Now, we make it clear that all `symbols` are treated as constants by `sympy`. `sympy` is also intelligent enough to automatically treat them as constants when computing their time derivatives."
   ]
  },
  {
   "cell_type": "code",
   "execution_count": 3,
   "metadata": {},
   "outputs": [],
   "source": [
    "from sympy import symbols\n",
    "l, h = symbols('l h')"
   ]
  },
  {
   "cell_type": "code",
   "execution_count": 4,
   "metadata": {},
   "outputs": [
    {
     "data": {
      "image/png": "[encoded data removed]",
      "text/latex": [
       "$\\displaystyle l$"
      ],
      "text/plain": [
       "l"
      ]
     },
     "execution_count": 4,
     "metadata": {},
     "output_type": "execute_result"
    }
   ],
   "source": [
    "l"
   ]
  },
  {
   "cell_type": "code",
   "execution_count": 5,
   "metadata": {},
   "outputs": [
    {
     "data": {
      "image/png": "[encoded data removed]",
      "text/latex": [
       "$\\displaystyle h$"
      ],
      "text/plain": [
       "h"
      ]
     },
     "execution_count": 5,
     "metadata": {},
     "output_type": "execute_result"
    }
   ],
   "source": [
    "h"
   ]
  },
  {
   "cell_type": "markdown",
   "metadata": {},
   "source": [
    "# Creating Reference Frames\n",
    "As taking the derivatives of any vector requires clear information about the reference frame, we create the A and B are reference frames using `ReferenceFrame` as below:"
   ]
  },
  {
   "cell_type": "code",
   "execution_count": 6,
   "metadata": {},
   "outputs": [],
   "source": [
    "from sympy.physics.mechanics import ReferenceFrame"
   ]
  },
  {
   "cell_type": "code",
   "execution_count": 7,
   "metadata": {},
   "outputs": [],
   "source": [
    "A = ReferenceFrame('A')"
   ]
  },
  {
   "cell_type": "code",
   "execution_count": 8,
   "metadata": {},
   "outputs": [],
   "source": [
    "B = ReferenceFrame('B')"
   ]
  },
  {
   "cell_type": "markdown",
   "metadata": {},
   "source": [
    "# L3PA3\n",
    "## Computing $\\frac{^A d}{dt}\\bf r$"
   ]
  },
  {
   "cell_type": "code",
   "execution_count": 9,
   "metadata": {},
   "outputs": [],
   "source": [
    "from sympy import sin, cos\n",
    "r_vec = h*A.y - l * ( cos(theta)*A.x + sin(theta)*A.z ) + l*A.x"
   ]
  },
  {
   "cell_type": "code",
   "execution_count": 10,
   "metadata": {},
   "outputs": [
    {
     "data": {
      "image/png": "[encoded data removed]",
      "text/latex": [
       "$\\displaystyle (- l \\cos{\\left(\\theta \\right)} + l)\\mathbf{\\hat{a}_x} + h\\mathbf{\\hat{a}_y} -  l \\sin{\\left(\\theta \\right)}\\mathbf{\\hat{a}_z}$"
      ],
      "text/plain": [
       "(-l⋅cos(θ) + l) a_x + h a_y + -l⋅sin(θ) a_z"
      ]
     },
     "execution_count": 10,
     "metadata": {},
     "output_type": "execute_result"
    }
   ],
   "source": [
    "r_vec"
   ]
  },
  {
   "cell_type": "code",
   "execution_count": 11,
   "metadata": {},
   "outputs": [
    {
     "data": {
      "image/png": "[encoded data removed]",
      "text/latex": [
       "$\\displaystyle l \\sin{\\left(\\theta \\right)} \\dot{\\theta}\\mathbf{\\hat{a}_x} -  l \\cos{\\left(\\theta \\right)} \\dot{\\theta}\\mathbf{\\hat{a}_z}$"
      ],
      "text/plain": [
       "l⋅sin(θ)⋅θ̇ a_x + -l⋅cos(θ)⋅θ̇ a_z"
      ]
     },
     "execution_count": 11,
     "metadata": {},
     "output_type": "execute_result"
    }
   ],
   "source": [
    "r_vec.dt(A)"
   ]
  },
  {
   "cell_type": "markdown",
   "metadata": {},
   "source": [
    "## Activity: Computing $\\frac{^B d}{dt}\\bf r$\n",
    "\n",
    "Please write some code below to compute the $\\frac{^B d}{dt}\\bf r$. You may need to insert some additional cells to do so:"
   ]
  },
  {
   "cell_type": "code",
   "execution_count": null,
   "metadata": {},
   "outputs": [],
   "source": []
  },
  {
   "cell_type": "markdown",
   "metadata": {},
   "source": [
    "## Activity: Re-compute $\\frac{^A d}{dt}\\bf r$"
   ]
  },
  {
   "cell_type": "markdown",
   "metadata": {},
   "source": [
    "Please re-compute the $\\frac{^A d}{dt}\\bf r$. Does your answer make sense? Why or why not?"
   ]
  },
  {
   "cell_type": "code",
   "execution_count": null,
   "metadata": {},
   "outputs": [],
   "source": []
  }
 ],
 "metadata": {
  "kernelspec": {
   "display_name": "Python 3 (ipykernel)",
   "language": "python",
   "name": "python3"
  },
  "language_info": {
   "codemirror_mode": {
    "name": "ipython",
    "version": 3
   },
   "file_extension": ".py",
   "mimetype": "text/x-python",
   "name": "python",
   "nbconvert_exporter": "python",
   "pygments_lexer": "ipython3",
   "version": "3.8.19"
  },
  "toc": {
   "base_numbering": 1,
   "nav_menu": {},
   "number_sections": true,
   "sideBar": true,
   "skip_h1_title": false,
   "title_cell": "Table of Contents",
   "title_sidebar": "Contents",
   "toc_cell": true,
   "toc_position": {},
   "toc_section_display": true,
   "toc_window_display": false
  }
 },
 "nbformat": 4,
 "nbformat_minor": 4
}
{
 "cells": [
  {
   "cell_type": "markdown",
   "metadata": {
    "toc": true
   },
   "source": [
    "<h1>Table of Contents<span class=\"tocSkip\"></span></h1>\n",
    "<div class=\"toc\"><ul class=\"toc-item\"><li><span><a href=\"#Knowledge-Tester-2\" data-toc-modified-id=\"Knowledge-Tester-2-1\"><span class=\"toc-item-num\">1&nbsp;&nbsp;</span>Knowledge Tester 2</a></span></li></ul></div>"
   ]
  },
  {
   "cell_type": "markdown",
   "metadata": {},
   "source": [
    "# Knowledge Tester 2\n",
    "<img src=\"Figures/Particle_sliding_on_Double_Pendulum.png\" height=300 width=300>\n",
    "\n",
    "This notebook uses the example of a particle $P$ sliding on a double pendulum (see figure above); this system was first presented to you in the file \"7 Particle Kinematics\". Your objective is to compute:\n",
    "1. $^N{\\bf a}^P$, acceleration of $P$ in $N$. __You should save the final answer in a variable named `N_a_P_vector`__ ; and\n",
    "2. $^A{\\bf a}^P$, acceleration of $P$ in $A$.  __You should save the final answer in a variable named `A_a_P_vector`__.\n",
    "\n",
    "__You are to complete this task using the appropriate velocity/acceleration transfer theorems and express all your answers in the unit vectors attached to the $A$ frame.__\n",
    "\n",
    "Other suggestions for variable names that will help you in your computation of the accelerations are:\n",
    "1.  `l_scalar` that represents $l$, the length of the links $A$ and $B$; \n",
    "2. `theta_1_scalar` to represent  $\\theta_1$;\n",
    "3. `theta_2_scalar` to represent $\\theta_2$; and\n",
    "4. `x_scalar` to represent $x$; and\n",
    "5. `N` to represent the reference frame $N$; and\n",
    "6. `A` to represent the reference frame $A$; and\n",
    "7. `B` to represent the reference frame $B$; and\n",
    "8. `O` to represent the point $O$; and\n",
    "9. `Q` to represent the point $Q$; and\n",
    "10. `P` to represent the point $P$.\n",
    "\n",
    "Note that you have to choose which of the variables are time-varying. Please enter all of your work in the code cell below and "
   ]
  },
  {
   "cell_type": "code",
   "execution_count": 1,
   "metadata": {},
   "outputs": [
    {
     "ename": "ModuleNotFoundError",
     "evalue": "No module named 'sympy'",
     "output_type": "error",
     "traceback": [
      "\u001b[0;31m---------------------------------------------------------------------------\u001b[0m",
      "\u001b[0;31mModuleNotFoundError\u001b[0m                       Traceback (most recent call last)",
      "Cell \u001b[0;32mIn [1], line 1\u001b[0m\n\u001b[0;32m----> 1\u001b[0m \u001b[38;5;28;01mfrom\u001b[39;00m \u001b[38;5;21;01msympy\u001b[39;00m \u001b[38;5;28;01mimport\u001b[39;00m symbols, sin, cos\n\u001b[1;32m      2\u001b[0m \u001b[38;5;28;01mfrom\u001b[39;00m \u001b[38;5;21;01msympy\u001b[39;00m\u001b[38;5;21;01m.\u001b[39;00m\u001b[38;5;21;01mphysics\u001b[39;00m\u001b[38;5;21;01m.\u001b[39;00m\u001b[38;5;21;01mmechanics\u001b[39;00m \u001b[38;5;28;01mimport\u001b[39;00m dynamicsymbols, ReferenceFrame, init_vprinting\n\u001b[1;32m      3\u001b[0m init_vprinting()\n",
      "\u001b[0;31mModuleNotFoundError\u001b[0m: No module named 'sympy'"
     ]
    }
   ],
   "source": [
    "from sympy import symbols, sin, cos\n",
    "from sympy.physics.mechanics import dynamicsymbols, ReferenceFrame, init_vprinting\n",
    "init_vprinting()"
   ]
  }
 ],
 "metadata": {
  "kernelspec": {
   "display_name": "Python 3",
   "language": "python",
   "name": "python3"
  },
  "language_info": {
   "codemirror_mode": {
    "name": "ipython",
    "version": 3
   },
   "file_extension": ".py",
   "mimetype": "text/x-python",
   "name": "python",
   "nbconvert_exporter": "python",
   "pygments_lexer": "ipython3",
   "version": "3.8.13"
  },
  "toc": {
   "base_numbering": 1,
   "nav_menu": {},
   "number_sections": true,
   "sideBar": true,
   "skip_h1_title": false,
   "title_cell": "Table of Contents",
   "title_sidebar": "Contents",
   "toc_cell": true,
   "toc_position": {},
   "toc_section_display": true,
   "toc_window_display": false
  }
 },
 "nbformat": 4,
 "nbformat_minor": 4
}
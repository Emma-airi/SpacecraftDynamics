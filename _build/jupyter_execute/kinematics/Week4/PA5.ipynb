{
 "cells": [
  {
   "cell_type": "markdown",
   "metadata": {},
   "source": [
    "# JN6: Practice Activity 5\n",
    "In this interactive activity, you will learn about two methods that you can use on a `ReferenceFrame` to define its angular velocity (and, therefore, also its angular acceleration).\n",
    "\n",
    "\n",
    "## Case 1: Given just orientation angle between two frames\n",
    "\n",
    "The figure below is that of the rolling disk, which was covered in the lecture (see your notes file titled \"6 rigid body kinematics: angular velocities and accelerations.pdf\")\n",
    "<!-- <img src=\"Figures/Rolling_Disk.png\" height=450 width=450> -->\n",
    "```{figure} Figures/Rolling_Disk.png\n",
    ":name: door-wall-modified\n",
    "\n",
    "Motion of a rolling disk $D$ relative to ground $A$.\n",
    "```\n",
    "You can see that the  information given here is:\n",
    "1. the angle $\\theta$ between frames $A$ and $D$; and\n",
    "2. direction of rotation of the disk.\n",
    "\n",
    "You can use this information to define the orientation of $D$ and $A$, as follows.\n",
    "\n",
    "First we use `dynamicsymbols` to create the variable `theta` to represent the angle shown in the picture:"
   ]
  },
  {
   "cell_type": "code",
   "execution_count": 1,
   "metadata": {},
   "outputs": [],
   "source": [
    "from sympy.physics.mechanics import dynamicsymbols, ReferenceFrame\n",
    "theta = dynamicsymbols('theta')"
   ]
  },
  {
   "cell_type": "markdown",
   "metadata": {},
   "source": [
    "Then, we represent $A$ and $D$ by creating two `ReferenceFrame` using the variables `A` and `D`, as shown below:"
   ]
  },
  {
   "cell_type": "code",
   "execution_count": 2,
   "metadata": {},
   "outputs": [],
   "source": [
    "A = ReferenceFrame('A')\n",
    "D = ReferenceFrame('D')"
   ]
  },
  {
   "cell_type": "markdown",
   "metadata": {},
   "source": [
    "Then, we can provide information regarding the rotation of `D` relative to `A` by using `D.orient`, as below; this is a method that we apply to the variable `D` with the negative of the angle (can you remember why?):"
   ]
  },
  {
   "cell_type": "code",
   "execution_count": 3,
   "metadata": {},
   "outputs": [],
   "source": [
    "D.orient(A, 'Axis', (-theta, A.z))"
   ]
  },
  {
   "cell_type": "markdown",
   "metadata": {},
   "source": [
    "The `orient` method takes the following sequence of information in the parantheses:\n",
    "1. Frame of rotation, in this case, `A`\n",
    "2. the type of rotation, in this case it is the `Axis` (however, we will learn to provide it DCMs in the next notebook); and\n",
    "3. a pair of values in round brackets, containing the angle and the specific axis of rotation.\n",
    "__ You will get an error (or incorrect result) if you do not provide the information in the order listed above__.\n",
    "\n",
    "\n",
    "You can now see that `sympy` has the power to automatically compute $^A\\omega^D$. In other words, this is the angular velocity of `D` in `A`; you can see that this has been done by using the `.ang_vel_in` method:"
   ]
  },
  {
   "cell_type": "code",
   "execution_count": 4,
   "metadata": {},
   "outputs": [
    {
     "data": {
      "text/latex": [
       "$\\displaystyle -  \\frac{d}{d t} \\theta{\\left(t \\right)}\\mathbf{\\hat{a}_z}$"
      ],
      "text/plain": [
       "- Derivative(theta(t), t)*A.z"
      ]
     },
     "execution_count": 4,
     "metadata": {},
     "output_type": "execute_result"
    }
   ],
   "source": [
    "D.ang_vel_in(A)"
   ]
  },
  {
   "cell_type": "markdown",
   "metadata": {},
   "source": [
    "In fact, `sympy` also has the power to automatically compute the angular acceleration of `D` in `A`, as shown below:"
   ]
  },
  {
   "cell_type": "code",
   "execution_count": 5,
   "metadata": {},
   "outputs": [
    {
     "data": {
      "text/latex": [
       "$\\displaystyle -  \\frac{d^{2}}{d t^{2}} \\theta{\\left(t \\right)}\\mathbf{\\hat{a}_z}$"
      ],
      "text/plain": [
       "- Derivative(theta(t), (t, 2))*A.z"
      ]
     },
     "execution_count": 5,
     "metadata": {},
     "output_type": "execute_result"
    }
   ],
   "source": [
    "D.ang_acc_in(A)"
   ]
  },
  {
   "cell_type": "markdown",
   "metadata": {},
   "source": [
    "`sympy` can also generate $^D {\\bf C} ^A$ the direction cosine matrix of $A$ relative to $D$."
   ]
  },
  {
   "cell_type": "code",
   "execution_count": 6,
   "metadata": {},
   "outputs": [
    {
     "data": {
      "text/latex": [
       "$\\displaystyle \\left[\\begin{matrix}\\cos{\\left(\\theta{\\left(t \\right)} \\right)} & - \\sin{\\left(\\theta{\\left(t \\right)} \\right)} & 0\\\\\\sin{\\left(\\theta{\\left(t \\right)} \\right)} & \\cos{\\left(\\theta{\\left(t \\right)} \\right)} & 0\\\\0 & 0 & 1\\end{matrix}\\right]$"
      ],
      "text/plain": [
       "Matrix([\n",
       "[cos(theta(t)), -sin(theta(t)), 0],\n",
       "[sin(theta(t)),  cos(theta(t)), 0],\n",
       "[            0,              0, 1]])"
      ]
     },
     "execution_count": 6,
     "metadata": {},
     "output_type": "execute_result"
    }
   ],
   "source": [
    "D.dcm(A)"
   ]
  },
  {
   "cell_type": "markdown",
   "metadata": {},
   "source": [
    "As you can imagine, this is incredibly powerful because `sympy` can automatically compute the rotational kinematics as long as you provide `sympy` the correct information in the `orient` method: direction of rotation angle (`-theta`), type of rotation (`Axis`), and axis of rotation (`A.z`)."
   ]
  },
  {
   "cell_type": "markdown",
   "metadata": {},
   "source": [
    "## Case 2: If you are only given angular speed and direction of rotation then you should use the `.set_ang_vel`\n",
    "In some cases, you are not given an orientation angle. Instead, you are given the angular speed and the direction of rotation. An example of this is the rotating shaft (shown below and also covered in the lecture):\n",
    "<!-- <img src=\"Figures/Rotating_Shaft.png\" height=450 width=450>. -->\n",
    "```{figure} Figures/Rotating_Shaft.png\n",
    ":name: door-wall-modified\n",
    "\n",
    "Motion of a shaft $B$ rotating relative to fixed axis $A$.\n",
    "```\n",
    "The shaft is rotating at the constant speed $4$ radian per second. So, from the figure, we can easily infer that the $^A\\omega^B = 4 \\hat{\\bf n} = 4 \\hat{\\bf a}_z$. Here, we made the assumption that $\\hat{\\bf n} = 4 \\hat{\\bf a}_z$. Let's see how we can let provide this information to `sympy`.\n",
    "\n",
    "First, we create the $A$ and $B$ frames using `ReferenceFrame`; the frames are assigned the variable names `A` and `B`:"
   ]
  },
  {
   "cell_type": "code",
   "execution_count": 7,
   "metadata": {},
   "outputs": [],
   "source": [
    "A = ReferenceFrame('A')\n",
    "B = ReferenceFrame('B')"
   ]
  },
  {
   "cell_type": "markdown",
   "metadata": {},
   "source": [
    "Then, we can can define $^A\\omega^B$ using a new method on `B`; this method is called  `set_ang_vel`. This is done as shown:"
   ]
  },
  {
   "cell_type": "code",
   "execution_count": 8,
   "metadata": {},
   "outputs": [],
   "source": [
    "B.set_ang_vel(A, 4*A.z)"
   ]
  },
  {
   "cell_type": "markdown",
   "metadata": {},
   "source": [
    "The sequence of information in the `set_ang_vel` is:\n",
    "1. The frame relative to which we define the orientation. In this example, it is `A`.\n",
    "2. The vector expression of the angular velocity. In this example, it is `4*A.z`.\n",
    "\n",
    "We can examine that the angular velocity is indeed assigned to `B` by using the `ang_vel_in` command (which was described in the above subsection on rolling disk). We can do this in the following way:"
   ]
  },
  {
   "cell_type": "code",
   "execution_count": 9,
   "metadata": {},
   "outputs": [
    {
     "data": {
      "text/latex": [
       "$\\displaystyle 4\\mathbf{\\hat{a}_z}$"
      ],
      "text/plain": [
       "4*A.z"
      ]
     },
     "execution_count": 9,
     "metadata": {},
     "output_type": "execute_result"
    }
   ],
   "source": [
    "B.ang_vel_in(A)"
   ]
  },
  {
   "cell_type": "markdown",
   "metadata": {},
   "source": [
    "$^A\\alpha^B$, the angular acceleration of B in A, has also been automatically computed:"
   ]
  },
  {
   "cell_type": "code",
   "execution_count": 10,
   "metadata": {},
   "outputs": [
    {
     "data": {
      "text/latex": [
       "$\\displaystyle 0$"
      ],
      "text/plain": [
       "0"
      ]
     },
     "execution_count": 10,
     "metadata": {},
     "output_type": "execute_result"
    }
   ],
   "source": [
    "B.ang_acc_in(A)"
   ]
  },
  {
   "cell_type": "markdown",
   "metadata": {},
   "source": [
    "This should be zero because the rotation speed is constant i.e., $4$ rad/s.\n",
    "\n",
    "Though the information on angular velocity and acceleration is automatically computed, extracting the direction cosine matrix is not possible as the angle is not specified in the problem statement. Thus, if you try to run `B.dcm(A)`, an error message will appear."
   ]
  },
  {
   "cell_type": "code",
   "execution_count": 11,
   "metadata": {},
   "outputs": [
    {
     "ename": "ValueError",
     "evalue": "No connecting orientation path found between B and A.",
     "output_type": "error",
     "traceback": [
      "\u001b[0;31m---------------------------------------------------------------------------\u001b[0m",
      "\u001b[0;31mValueError\u001b[0m                                Traceback (most recent call last)",
      "Cell \u001b[0;32mIn[11], line 1\u001b[0m\n\u001b[0;32m----> 1\u001b[0m \u001b[43mB\u001b[49m\u001b[38;5;241;43m.\u001b[39;49m\u001b[43mdcm\u001b[49m\u001b[43m(\u001b[49m\u001b[43mA\u001b[49m\u001b[43m)\u001b[49m\n",
      "File \u001b[0;32m~/opt/anaconda3/envs/computational-mechanics-example/lib/python3.8/site-packages/sympy/physics/vector/frame.py:531\u001b[0m, in \u001b[0;36mReferenceFrame.dcm\u001b[0;34m(self, otherframe)\u001b[0m\n\u001b[1;32m    529\u001b[0m \u001b[38;5;28;01mif\u001b[39;00m otherframe \u001b[38;5;129;01min\u001b[39;00m \u001b[38;5;28mself\u001b[39m\u001b[38;5;241m.\u001b[39m_dcm_cache:\n\u001b[1;32m    530\u001b[0m     \u001b[38;5;28;01mreturn\u001b[39;00m \u001b[38;5;28mself\u001b[39m\u001b[38;5;241m.\u001b[39m_dcm_cache[otherframe]\n\u001b[0;32m--> 531\u001b[0m flist \u001b[38;5;241m=\u001b[39m \u001b[38;5;28;43mself\u001b[39;49m\u001b[38;5;241;43m.\u001b[39;49m\u001b[43m_dict_list\u001b[49m\u001b[43m(\u001b[49m\u001b[43motherframe\u001b[49m\u001b[43m,\u001b[49m\u001b[43m \u001b[49m\u001b[38;5;241;43m0\u001b[39;49m\u001b[43m)\u001b[49m\n\u001b[1;32m    532\u001b[0m outdcm \u001b[38;5;241m=\u001b[39m eye(\u001b[38;5;241m3\u001b[39m)\n\u001b[1;32m    533\u001b[0m \u001b[38;5;28;01mfor\u001b[39;00m i \u001b[38;5;129;01min\u001b[39;00m \u001b[38;5;28mrange\u001b[39m(\u001b[38;5;28mlen\u001b[39m(flist) \u001b[38;5;241m-\u001b[39m \u001b[38;5;241m1\u001b[39m):\n",
      "File \u001b[0;32m~/opt/anaconda3/envs/computational-mechanics-example/lib/python3.8/site-packages/sympy/physics/vector/frame.py:328\u001b[0m, in \u001b[0;36mReferenceFrame._dict_list\u001b[0;34m(self, other, num)\u001b[0m\n\u001b[1;32m    325\u001b[0m     \u001b[38;5;28;01mreturn\u001b[39;00m possible_connecting_paths[\u001b[38;5;241m0\u001b[39m]  \u001b[38;5;66;03m# selects the shortest path\u001b[39;00m\n\u001b[1;32m    327\u001b[0m msg \u001b[38;5;241m=\u001b[39m \u001b[38;5;124m'\u001b[39m\u001b[38;5;124mNo connecting \u001b[39m\u001b[38;5;132;01m{}\u001b[39;00m\u001b[38;5;124m path found between \u001b[39m\u001b[38;5;132;01m{}\u001b[39;00m\u001b[38;5;124m and \u001b[39m\u001b[38;5;132;01m{}\u001b[39;00m\u001b[38;5;124m.\u001b[39m\u001b[38;5;124m'\u001b[39m\n\u001b[0;32m--> 328\u001b[0m \u001b[38;5;28;01mraise\u001b[39;00m \u001b[38;5;167;01mValueError\u001b[39;00m(msg\u001b[38;5;241m.\u001b[39mformat(connect_type[num], \u001b[38;5;28mself\u001b[39m\u001b[38;5;241m.\u001b[39mname, other\u001b[38;5;241m.\u001b[39mname))\n",
      "\u001b[0;31mValueError\u001b[0m: No connecting orientation path found between B and A."
     ]
    }
   ],
   "source": [
    "B.dcm(A)"
   ]
  },
  {
   "cell_type": "markdown",
   "metadata": {},
   "source": [
    "So, ultimately, the problem and assoicated figure dictates whether one uses `.orient` or `.set_ang_vel` on a `ReferenceFrame` variable in defining the orientation kinematics."
   ]
  }
 ],
 "metadata": {
  "kernelspec": {
   "display_name": "Python 3 (ipykernel)",
   "language": "python",
   "name": "python3"
  },
  "language_info": {
   "codemirror_mode": {
    "name": "ipython",
    "version": 3
   },
   "file_extension": ".py",
   "mimetype": "text/x-python",
   "name": "python",
   "nbconvert_exporter": "python",
   "pygments_lexer": "ipython3",
   "version": "3.8.19"
  },
  "toc": {
   "base_numbering": 1,
   "nav_menu": {},
   "number_sections": true,
   "sideBar": true,
   "skip_h1_title": false,
   "title_cell": "Table of Contents",
   "title_sidebar": "Contents",
   "toc_cell": true,
   "toc_position": {},
   "toc_section_display": true,
   "toc_window_display": false
  }
 },
 "nbformat": 4,
 "nbformat_minor": 4
}
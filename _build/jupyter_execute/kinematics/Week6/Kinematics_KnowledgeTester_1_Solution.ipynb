{
 "cells": [
  {
   "cell_type": "markdown",
   "metadata": {
    "toc": true
   },
   "source": [
    "<h1>Table of Contents<span class=\"tocSkip\"></span></h1>\n",
    "<div class=\"toc\"><ul class=\"toc-item\"><li><span><a href=\"#Knowledge-Tester-1-Solution\" data-toc-modified-id=\"Knowledge-Tester-1-Solution-1\"><span class=\"toc-item-num\">1&nbsp;&nbsp;</span>Knowledge Tester 1 Solution</a></span></li><li><span><a href=\"#Handwritten-setup\" data-toc-modified-id=\"Handwritten-setup-2\"><span class=\"toc-item-num\">2&nbsp;&nbsp;</span>Handwritten setup</a></span></li><li><span><a href=\"#Create-scalars-using-symbols-and-dynamicsymbols\" data-toc-modified-id=\"Create-scalars-using-symbols-and-dynamicsymbols-3\"><span class=\"toc-item-num\">3&nbsp;&nbsp;</span>Create scalars using <code>symbols</code> and <code>dynamicsymbols</code></a></span><ul class=\"toc-item\"><li><span><a href=\"#Creating-Reference-Frames-and-orienting-using-DCM\" data-toc-modified-id=\"Creating-Reference-Frames-and-orienting-using-DCM-3.1\"><span class=\"toc-item-num\">3.1&nbsp;&nbsp;</span>Creating Reference Frames and orienting using DCM</a></span></li></ul></li></ul></div>"
   ]
  },
  {
   "cell_type": "markdown",
   "metadata": {},
   "source": [
    "# Knowledge Tester 1 Solution\n",
    "\n",
    "In L4PA6, you learned how to compute the direction cosine matrices between different reference frames to generate the angular velocity and acceleration of one frame with respect to another. In this activity, you are to perform the orientation kinematics for the wall-door-cat flap system shown below.\n",
    "\n",
    "<img src=\"Figures/CatFlap_Door_Wall.png\" height=450 width=450>\n",
    "\n",
    "Specifically, you are to compute the following in the A-frame and also the B-frame:\n",
    "1. $^N\\omega^C$ and store it in a variable named `N_w_C_a_frame` and `N_w_C_b_frame`; and\n",
    "2. $^N\\alpha^C$ and store it in a variable named `N_alpha_C_a_frame` and `N_alpha_C_b_frame`."
   ]
  },
  {
   "cell_type": "markdown",
   "metadata": {},
   "source": [
    "# Handwritten setup\n",
    "<img src=\"Figures/KT1_Solution_Handwritten.png\" height=450 width=450>\n",
    "\n",
    "# Create scalars using `symbols` and `dynamicsymbols`"
   ]
  },
  {
   "cell_type": "code",
   "execution_count": 1,
   "metadata": {},
   "outputs": [],
   "source": [
    "from sympy.physics.mechanics import dynamicsymbols, ReferenceFrame, init_vprinting\n",
    "from sympy import sin, cos, Matrix\n",
    "init_vprinting()\n",
    "theta, phi = dynamicsymbols('theta phi')\n",
    "thetadot, phidot = dynamicsymbols('theta phi',1) # gives the first time derivative of the angles"
   ]
  },
  {
   "cell_type": "markdown",
   "metadata": {},
   "source": [
    "## Creating Reference Frames and orienting using DCM"
   ]
  },
  {
   "cell_type": "markdown",
   "metadata": {},
   "source": [
    "Write angular velocity vectors $^A\\omega^B$ and $^B\\omega^C$ using the variables `A_omega_B` and `B_omega_C`, as below:"
   ]
  },
  {
   "cell_type": "code",
   "execution_count": 2,
   "metadata": {},
   "outputs": [],
   "source": [
    "A = ReferenceFrame('A')\n",
    "B = ReferenceFrame('B')\n",
    "C = ReferenceFrame('C')\n",
    "\n",
    "B_dcm_A = Matrix([\n",
    "    [cos(theta), 0, sin(theta)],\n",
    "    [0, 1, 0],\n",
    "    [-sin(theta), 0, cos(theta)]\n",
    "])\n",
    "\n",
    "C_dcm_B = Matrix([\n",
    "    [1, 0, 0],\n",
    "    [0, cos(phi), -sin(phi)],\n",
    "    [0, sin(phi), cos(phi)]\n",
    "])\n",
    "\n",
    "C_dcm_A = C_dcm_B*B_dcm_A\n",
    "\n",
    "C.orient(A, 'DCM', C_dcm_A.transpose())\n",
    "B.orient(A, 'Axis', (-theta, A.y))\n",
    "\n",
    "C_w_A = C.ang_vel_in(A)\n",
    "N_w_C_a_frame = C_w_A.express(A).simplify()\n",
    "N_w_C_b_frame = C_w_A.express(B).simplify()"
   ]
  },
  {
   "cell_type": "code",
   "execution_count": 3,
   "metadata": {},
   "outputs": [
    {
     "data": {
      "image/png": "[encoded data removed]",
      "text/latex": [
       "$\\displaystyle -  \\dot{\\phi}\\mathbf{\\hat{b}_x} -  \\dot{\\theta}\\mathbf{\\hat{b}_y}$"
      ],
      "text/plain": [
       "-φ̇ b_x + -θ̇ b_y"
      ]
     },
     "execution_count": 3,
     "metadata": {},
     "output_type": "execute_result"
    }
   ],
   "source": [
    "# Angular velocity questions\n",
    "C_w_A = C.ang_vel_in(A)\n",
    "N_w_C_a_frame = C_w_A.express(A).simplify()\n",
    "N_w_C_b_frame = C_w_A.express(B).simplify()\n",
    "N_w_C_b_frame"
   ]
  },
  {
   "cell_type": "code",
   "execution_count": 4,
   "metadata": {},
   "outputs": [
    {
     "data": {
      "image/png": "[encoded data removed]",
      "text/latex": [
       "$\\displaystyle -  \\ddot{\\phi}\\mathbf{\\hat{b}_x} -  \\ddot{\\theta}\\mathbf{\\hat{b}_y} -  \\dot{\\phi} \\dot{\\theta}\\mathbf{\\hat{b}_z}$"
      ],
      "text/plain": [
       "-φ̈ b_x + -θ̈ b_y + -φ̇⋅θ̇ b_z"
      ]
     },
     "execution_count": 4,
     "metadata": {},
     "output_type": "execute_result"
    }
   ],
   "source": [
    "A_alpha_C = C.ang_acc_in(A)\n",
    "N_alpha_C_a_frame = A_alpha_C.express(A).simplify()\n",
    "N_alpha_C_b_frame = A_alpha_C.express(B).simplify()\n",
    "N_alpha_C_b_frame"
   ]
  }
 ],
 "metadata": {
  "kernelspec": {
   "display_name": "Python 3",
   "language": "python",
   "name": "python3"
  },
  "language_info": {
   "codemirror_mode": {
    "name": "ipython",
    "version": 3
   },
   "file_extension": ".py",
   "mimetype": "text/x-python",
   "name": "python",
   "nbconvert_exporter": "python",
   "pygments_lexer": "ipython3",
   "version": "3.8.19"
  },
  "toc": {
   "base_numbering": 1,
   "nav_menu": {},
   "number_sections": true,
   "sideBar": true,
   "skip_h1_title": false,
   "title_cell": "Table of Contents",
   "title_sidebar": "Contents",
   "toc_cell": true,
   "toc_position": {},
   "toc_section_display": true,
   "toc_window_display": false
  }
 },
 "nbformat": 4,
 "nbformat_minor": 4
}
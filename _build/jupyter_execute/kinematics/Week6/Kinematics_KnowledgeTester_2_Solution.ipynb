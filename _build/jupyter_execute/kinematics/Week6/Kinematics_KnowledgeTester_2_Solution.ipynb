{
 "cells": [
  {
   "cell_type": "markdown",
   "metadata": {
    "nbgrader": {
     "grade": false,
     "grade_id": "cell-a2119da959665a91",
     "locked": true,
     "schema_version": 3,
     "solution": false,
     "task": false
    },
    "toc": true
   },
   "source": [
    "<h1>Table of Contents<span class=\"tocSkip\"></span></h1>\n",
    "<div class=\"toc\"><ul class=\"toc-item\"><li><span><a href=\"#Knowledge-Tester-2\" data-toc-modified-id=\"Knowledge-Tester-2-1\"><span class=\"toc-item-num\">1&nbsp;&nbsp;</span>Knowledge Tester 2</a></span></li></ul></div>"
   ]
  },
  {
   "cell_type": "markdown",
   "metadata": {
    "nbgrader": {
     "grade": false,
     "grade_id": "cell-d792ff24d79e1df1",
     "locked": true,
     "schema_version": 3,
     "solution": false,
     "task": false
    }
   },
   "source": [
    "# Knowledge Tester 2\n",
    "<img src=\"Figures/Particle_sliding_on_Double_Pendulum.png\" height=300 width=300>\n",
    "\n",
    "This notebook uses the example of a particle $P$ sliding on a double pendulum (see figure above); this system was first presented to you in the file \"7 Particle Kinematics\". Your objective is to compute:\n",
    "1. $^N{\\bf a}^P$, acceleration of $P$ in $N$. __You should save the final answer in a variable named `N_a_P_vector`__ ; and\n",
    "2. $^A{\\bf a}^P$, acceleration of $P$ in $A$.  __You should save the final answer in a variable named `A_a_P_vector`__.\n",
    "\n",
    "__You are to complete this task using the appropriate velocity/acceleration transfer theorems for accelerations and express all your answers in the unit vectors attached to the $A$ frame.__\n",
    "\n",
    "Other suggestions for variable names that will help you in your computation of the accelerations are:\n",
    "1.  `l_scalar` that represents $l$, the length of the links $A$ and $B$; \n",
    "2. `theta_1_scalar` to represent  $\\theta_1$;\n",
    "3. `theta_2_scalar` to represent $\\theta_2$; and\n",
    "4. `x_scalar` to represent $x$; and\n",
    "5. `N` to represent the reference frame $N$; and\n",
    "6. `A` to represent the reference frame $A$; and\n",
    "7. `B` to represent the reference frame $B$; and\n",
    "8. `O` to represent the point $O$; and\n",
    "9. `Q` to represent the point $Q$; and\n",
    "10. `P` to represent the point $P$.\n",
    "\n",
    "Note that you have to choose which of the variables are time-varying. Please enter all of your work in the code cell below.\n",
    "\n",
    "<img src=\"Figures/KT2_Solution_Handwritten.png\" height=450 width=450>"
   ]
  },
  {
   "cell_type": "code",
   "execution_count": 1,
   "metadata": {},
   "outputs": [],
   "source": [
    "from sympy import symbols, sin, cos\n",
    "from sympy.physics.mechanics import dynamicsymbols, ReferenceFrame, init_vprinting, Point\n",
    "init_vprinting()\n",
    "\n",
    "# Create symbols\n",
    "l_scalar = symbols('l')\n",
    "theta_1_scalar, theta_2_scalar, x_scalar = dynamicsymbols('theta_1, theta_2, x')\n",
    "x_scalar_dot = dynamicsymbols('x', 1)\n",
    "\n",
    "# Create Reference Frames\n",
    "N = ReferenceFrame('N')\n",
    "A = ReferenceFrame('A')\n",
    "B = ReferenceFrame('B')\n",
    "A.orient(N, 'Axis', (theta_1_scalar, N.z))\n",
    "B.orient(A, 'Axis', (theta_2_scalar, A.z))\n",
    "\n",
    "# Angular velocities\n",
    "N_w_A_vector = A.ang_vel_in(N)\n",
    "N_w_B_vector = B.ang_vel_in(N)\n",
    "A_w_B_vector = B.ang_vel_in(A)\n",
    "\n",
    "# Angular accelerations\n",
    "N_alpha_A_vector = A.ang_acc_in(N)\n",
    "N_alpha_B_vector = B.ang_acc_in(N)\n",
    "A_alpha_B_vector = B.ang_acc_in(A)"
   ]
  },
  {
   "cell_type": "code",
   "execution_count": 2,
   "metadata": {},
   "outputs": [],
   "source": [
    "# Create Points\n",
    "O = Point('O')\n",
    "Q = Point('Q')\n",
    "P = Point('P')\n",
    "\n",
    "# Define positions of points relative to each other\n",
    "Q.set_pos(O, l_scalar*A.y)\n",
    "P.set_pos(Q, x_scalar*B.y)\n",
    "\n",
    "# Define positions of points relative to each other\n",
    "r_OQ_vector = Q.pos_from(O)\n",
    "r_QP_vector = P.pos_from(Q)\n",
    "r_OP_vector = r_OQ_vector + r_QP_vector"
   ]
  },
  {
   "cell_type": "code",
   "execution_count": 3,
   "metadata": {},
   "outputs": [],
   "source": [
    "# Set and store some of the known velocities\n",
    "O.set_vel(N, 0)\n",
    "O.set_vel(A, 0)\n",
    "N_v_O_vector = O.vel(N)\n",
    "N_a_O_vector = O.acc(N)\n",
    "\n",
    "Q.set_vel(A, 0)\n",
    "Q.set_vel(B, 0)\n",
    "\n",
    "P.set_vel(B, x_scalar_dot*B.y)\n",
    "B_v_P_vector = P.vel(B)\n",
    "B_a_P_vector = P.acc(B)"
   ]
  },
  {
   "cell_type": "code",
   "execution_count": 4,
   "metadata": {},
   "outputs": [],
   "source": [
    "N_a_Q_vector = N_a_O_vector + N_alpha_A_vector.cross(r_OQ_vector) + N_w_A_vector.cross(N_w_A_vector.cross(r_OQ_vector))"
   ]
  },
  {
   "cell_type": "code",
   "execution_count": 5,
   "metadata": {},
   "outputs": [
    {
     "data": {
      "image/png": "[encoded data removed]",
      "text/latex": [
       "$\\displaystyle (- l \\ddot{\\theta}_{1} + \\left(- 2 \\left(\\dot{\\theta}_{1} + \\dot{\\theta}_{2}\\right) \\dot{x} - \\left(\\ddot{\\theta}_{1} + \\ddot{\\theta}_{2}\\right) x\\right) \\cos{\\left(\\theta_{2} \\right)} - \\left(- \\left(\\dot{\\theta}_{1} + \\dot{\\theta}_{2}\\right)^{2} x + \\ddot{x}\\right) \\sin{\\left(\\theta_{2} \\right)})\\mathbf{\\hat{a}_x} + (- l \\dot{\\theta}_{1}^{2} + \\left(- 2 \\left(\\dot{\\theta}_{1} + \\dot{\\theta}_{2}\\right) \\dot{x} - \\left(\\ddot{\\theta}_{1} + \\ddot{\\theta}_{2}\\right) x\\right) \\sin{\\left(\\theta_{2} \\right)} + \\left(- \\left(\\dot{\\theta}_{1} + \\dot{\\theta}_{2}\\right)^{2} x + \\ddot{x}\\right) \\cos{\\left(\\theta_{2} \\right)})\\mathbf{\\hat{a}_y}$"
      ],
      "text/plain": [
       "⎛                                                 ⎛           2      ⎞\n",
       "⎝-l⋅θ₁̈ + (-2⋅(θ₁̇ + θ₂̇)⋅ẋ - (θ₁̈ + θ₂̈)⋅x)⋅cos(θ₂) - ⎝- (θ₁̇ + θ₂̇) ⋅x + ẍ\n",
       "\n",
       "⎞       ⎛      2                                            ⎛           2\n",
       "⎠⋅sin(θ₂)⎠ a_x + ⎝- l⋅θ₁̇  + (-2⋅(θ₁̇ + θ₂̇)⋅ẋ - (θ₁̈ + θ₂̈)⋅x)⋅sin(θ₂) + ⎝-\n",
       "\n",
       " ⎞        ⎞\n",
       "(θ₁̇ + θ₂̇) ⋅x + ẍ⎠⋅cos(θ₂)⎠ a_y"
      ]
     },
     "execution_count": 5,
     "metadata": {},
     "output_type": "execute_result"
    }
   ],
   "source": [
    "N_a_P_vector = B_a_P_vector + N_a_Q_vector + N_alpha_B_vector.cross(r_QP_vector) + N_w_B_vector.cross(N_w_B_vector.cross(r_QP_vector)) + 2 * N_w_B_vector.cross(B_v_P_vector)\n",
    "N_a_P_vector.express(A)"
   ]
  },
  {
   "cell_type": "code",
   "execution_count": 6,
   "metadata": {},
   "outputs": [
    {
     "data": {
      "image/png": "[encoded data removed]",
      "text/latex": [
       "$\\displaystyle (- \\left(- x \\dot{\\theta}_{2}^{2} + \\ddot{x}\\right) \\sin{\\left(\\theta_{2} \\right)} + \\left(- x \\ddot{\\theta}_{2} - 2 \\dot{\\theta}_{2} \\dot{x}\\right) \\cos{\\left(\\theta_{2} \\right)})\\mathbf{\\hat{a}_x} + (\\left(- x \\dot{\\theta}_{2}^{2} + \\ddot{x}\\right) \\cos{\\left(\\theta_{2} \\right)} + \\left(- x \\ddot{\\theta}_{2} - 2 \\dot{\\theta}_{2} \\dot{x}\\right) \\sin{\\left(\\theta_{2} \\right)})\\mathbf{\\hat{a}_y}$"
      ],
      "text/plain": [
       "⎛  ⎛      2    ⎞                                   ⎞       ⎛⎛      2    ⎞\n",
       "⎝- ⎝- x⋅θ₂̇  + ẍ⎠⋅sin(θ₂) + (-x⋅θ₂̈ - 2⋅θ₂̇⋅ẋ)⋅cos(θ₂)⎠ a_x + ⎝⎝- x⋅θ₂̇  + x\n",
       "\n",
       "                              ⎞\n",
       "̈⎠⋅cos(θ₂) + (-x⋅θ₂̈ - 2⋅θ₂̇⋅ẋ)⋅sin(θ₂)⎠ a_y"
      ]
     },
     "execution_count": 6,
     "metadata": {},
     "output_type": "execute_result"
    }
   ],
   "source": [
    "A_a_Q_vector = Q.acc(A)\n",
    "A_a_P_vector = B_a_P_vector + A_a_Q_vector + A_alpha_B_vector.cross(r_QP_vector) + A_w_B_vector.cross(A_w_B_vector.cross(r_QP_vector)) + 2 * A_w_B_vector.cross(B_v_P_vector)\n",
    "A_a_P_vector.express(A)"
   ]
  }
 ],
 "metadata": {
  "kernelspec": {
   "display_name": "Python 3",
   "language": "python",
   "name": "python3"
  },
  "language_info": {
   "codemirror_mode": {
    "name": "ipython",
    "version": 3
   },
   "file_extension": ".py",
   "mimetype": "text/x-python",
   "name": "python",
   "nbconvert_exporter": "python",
   "pygments_lexer": "ipython3",
   "version": "3.8.19"
  },
  "toc": {
   "base_numbering": 1,
   "nav_menu": {},
   "number_sections": true,
   "sideBar": true,
   "skip_h1_title": false,
   "title_cell": "Table of Contents",
   "title_sidebar": "Contents",
   "toc_cell": true,
   "toc_position": {},
   "toc_section_display": true,
   "toc_window_display": false
  }
 },
 "nbformat": 4,
 "nbformat_minor": 4
}
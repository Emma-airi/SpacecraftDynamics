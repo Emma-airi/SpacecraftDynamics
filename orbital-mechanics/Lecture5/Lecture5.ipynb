{
 "cells": [
  {
   "cell_type": "markdown",
   "id": "e7316f76-2dbe-47c4-9207-4ff1aef713f2",
   "metadata": {},
   "source": [
    "# Orbital Elements"
   ]
  },
  {
   "cell_type": "markdown",
   "id": "2f8a274f-c1cc-40f0-bea3-c45cb5d3ab32",
   "metadata": {},
   "source": [
    "In this lecture we aim to cover the following topics:\n",
    "1. [](content:determination-of-velocity-component)\n",
    "2. [](content:the-perifocal-frame)\n",
    "3. [](content:the-eci-reference-frame)\n",
    "4. [](content:classical-orbital-parameters)"
   ]
  },
  {
   "cell_type": "markdown",
   "id": "bf448aa2-61fc-48c7-b738-602239def029",
   "metadata": {},
   "source": [
    "(content:determination-of-velocity-component)=\n",
    "## Determination of Velocity Component"
   ]
  },
  {
   "cell_type": "markdown",
   "id": "9032b393-f924-4004-82ac-308140aad456",
   "metadata": {},
   "source": [
    "In polar coordinates, the velocity vector is expressed as:\n",
    "```{math}\n",
    ":label: L5_1\n",
    "{\\bf v} = \\dot {\\bf r} = v_r{\\bf e}_r + v_\\theta{\\bf e}_\\theta  = \\dot r{\\bf e}_r + r \\dot \\theta{\\bf e}_\\theta\n",
    "```\n",
    "\n",
    "Recalling the **equation of the orbit** based on the semi-latus rectum ($p$) is:\n",
    "```{math}\n",
    ":label: L5_2\n",
    "r = \\frac{p}{1 + e \\cos (\\theta)}\n",
    "```\n",
    "\n",
    "To find its derivative, we first differentiate $r$ with respect to $\\theta$ and then multiply by $\\dot \\theta$ (using the the chain rule):\n",
    "```{math}\n",
    "\\dot r= \\frac{dr}{dt} = \\frac{dr}{d\\theta} \\frac{d\\theta}{dt}\n",
    "```\n",
    "\n",
    "To differentiate $r$ with respect to $\\theta$, we substitute $u= 1 + e \\cos (\\theta)$, so $r$ becomes: \n",
    "```{math}\n",
    "r = \\frac{p}{u}\n",
    "```\n",
    "\n",
    "Applying chain rule:\n",
    "```{math}\n",
    "\\frac{dr}{d\\theta} = \\frac{dr}{du} \\frac{du}{d\\theta}\n",
    "```\n",
    "```{math}\n",
    "\\frac{dr}{du} = \\frac{-p}{u^2}\n",
    "```\n",
    "```{math}\n",
    "\\frac{du}{d\\theta} = -e\\sin(\\theta)\n",
    "```\n",
    "```{math}\n",
    "\\frac{dr}{d\\theta} =  \\bigr[\\frac{-p}{u^2}\\bigr]\\bigr[-e\\sin(\\theta)\\bigr]\n",
    "```\n",
    "Substituting back $u= 1 + e \\cos (\\theta)$: \n",
    "```{math}\n",
    "\\frac{dr}{d\\theta} =  \\bigr[\\frac{-p}{\\bigl(1 + e \\cos (\\theta)\\bigl)^2}\\bigr]\\bigr[-e\\sin(\\theta)\\bigr] = \\frac{pe\\sin(\\theta)}{\\bigl(1 + e \\cos (\\theta)\\bigl)^2}\n",
    "```\n",
    "This results in the following derivative of Equation \\ref{L5_2}:\n",
    "```{math}\n",
    ":label: L5_3\n",
    "\\dot r = \\frac{pe\\sin(\\theta)}{\\bigl(1+e\\cos(\\theta)\\bigl)^2}\\dot\\theta\n",
    "```\n",
    "\n",
    "By substituting Equation \\ref{L5_2} into \\ref{L5_3}, \n",
    "```{math}\n",
    ":label: L5_4\n",
    "\\dot r = \\frac{r^2\\dot\\theta}{p}e\\sin(\\theta)\n",
    "```\n",
    "\n",
    "Since $h = r^2\\dot\\theta$ and $p = h^2/\\mu$, the above can be expressed as:\n",
    "```{math}\n",
    ":label: L5_5\n",
    "\\dot r = \\frac{h}{h^2/\\mu}e\\sin(\\theta) = \\frac{\\mu}{h}e\\sin(\\theta)\n",
    "```\n",
    "\n",
    "From Equation \\ref{L5_1}, the radial component of velocity is simply $\\dot r$:\n",
    "```{math}\n",
    ":label: L5_6\n",
    "v_r = \\dot r = \\frac{\\mu}{h}e\\sin(\\theta)\n",
    "```\n",
    "\n",
    "Likewise, the tangential component is simply $r\\dot\\theta$ and since $h = r^2\\dot\\theta$:\n",
    "```{math}\n",
    ":label: L5_7\n",
    "v_\\theta = r\\dot\\theta = \\frac{h}{r} = \\frac{h\\bigl(1+e\\cos(\\theta)\\bigl)}{h^2/\\mu} = \\frac{\\mu}{h}\\bigl(1+e\\cos(\\theta)\\bigl)\n",
    "```\n",
    "\n",
    "**Note:** These derivations are valid for all $e$, not only for ellipses. "
   ]
  },
  {
   "cell_type": "markdown",
   "id": "cc047c1d",
   "metadata": {},
   "source": [
    "### Flight Path Angle"
   ]
  },
  {
   "cell_type": "markdown",
   "id": "6bc05e6d",
   "metadata": {},
   "source": [
    "<div style=\"text-align: center;\">\n",
    "    <img src=\"L5fig1.png\" alt=\"Figure 5.1\" style=\"width:50%;\">\n",
    "    <p><strong>Figure 5.1:</strong> Illustration of an orbital path in polar coordinates showing the radial and tangential components of velocity. The angle marked \\(\\gamma\\) is the flight path angle; the angle between the tangential component and the resultant velocity vector.\n",
    "</p>\n",
    "</div>"
   ]
  },
  {
   "cell_type": "markdown",
   "id": "2d14c653",
   "metadata": {},
   "source": [
    "From Figure 5.1, a trignometric relationship for the **flight path angle** can be defined as follows. \n",
    "```{math}\n",
    ":label: L5_8\n",
    "\\tan(\\gamma) = \\frac{v_r}{v_\\theta}\n",
    "```\n",
    "\n",
    "By substituting Equations \\ref{L5_6} and \\ref{L5_7} for $v_r$ and $v_\\theta$ respectively and simplifying, we obtain: \n",
    "```{math}\n",
    ":label: L5_9\n",
    "\\tan(\\gamma) = \\frac{e\\sin(\\theta)}{1 + \\cos(\\theta)}\n",
    "```"
   ]
  },
  {
   "cell_type": "markdown",
   "id": "24bbaec5",
   "metadata": {},
   "source": [
    "**Additionally,** \n",
    "1. Tangential Component, $v_\\theta$\n",
    "    - $v_\\theta >= 0$ \n",
    "    - $v_\\theta$ is at its maximum when $\\theta = 0\\degree$ (perigee)\n",
    "    - $v_\\theta$ is at its minimum when $\\theta = 180\\degree$ (apogee)\n",
    "\n",
    "2. Radial Component, $v_r$\n",
    "    - $v_r >= 0$ when $0\\degree <= \\theta <= 180\\degree$\n",
    "    - $v_r < 0$ when $180\\degree < \\theta < 360\\degree$ \n",
    "    - $v_r = 0$ at $\\theta = 0\\degree$ (perigee) and $\\theta = 180\\degree$ (apogee). At these points, the motion is purely tangential. "
   ]
  },
  {
   "cell_type": "markdown",
   "id": "d224760e",
   "metadata": {},
   "source": [
    "(content:the-perifocal-frame)=\n",
    "## The Perifocal Frame"
   ]
  },
  {
   "cell_type": "markdown",
   "id": "008a2d3c",
   "metadata": {},
   "source": [
    "\n",
    "The unit vectors (${\\bf \\hat e}_r$, ${\\bf \\hat e}_\\theta$) in the polar coordinate system change along the orbital path, varying from point to point. To establish a more stable reference frame, we can create a new inertial perifocal frame using three mutually perpendicular vectors that remain fixed relative to the orbital path. \n",
    "\n",
    "**Recall:**\n",
    "- From Lecture 2, the specific angular momentum vector (${\\bf \\vec h}$) is a constant and is orthogonal to the plane of motion (i.e., pointing out of the plane). \n",
    "- In Lecture 3, it was noted that the eccentricity vector (${\\bf \\vec e}$) was in the plane of motion and was in the direction of the perigee. "
   ]
  },
  {
   "cell_type": "markdown",
   "id": "e0e78e9e",
   "metadata": {},
   "source": [
    "<div style=\"text-align: center;\">\n",
    "    <img src=\"L5fig2.png\" alt=\"Figure 5.2\" style=\"width:50%;\">\n",
    "    <p><strong>Figure 5.2:</strong> Illustration of an elliptical orbit with the perifocal frame, consisting of the unit vectors ${\\bf \\hat p}$,${\\bf \\hat q}$ and ${\\bf \\hat w}$. \n",
    "</p>\n",
    "</div>"
   ]
  },
  {
   "cell_type": "markdown",
   "id": "7510f02b",
   "metadata": {},
   "source": [
    "**Creating the Perifocal Frame:**\n",
    "\n",
    "The following three vectors form a fixed, inertial reference frame, centered at the focus of the orbit:\n",
    "1. The first vector, ${\\bf \\hat p}$, is the unit vector in the direction of the eccentricity vector (${\\bf \\vec e}$). \n",
    "```{math}\n",
    ":label: L5_10\n",
    "{\\bf \\hat p} = \\frac{{\\bf \\vec e}}{|{\\bf \\vec e}|} = \\frac{{\\bf \\vec e}}{e}\n",
    "```\n",
    "2. The second vector,  ${\\bf \\hat w}$, is the unit vector in the direction of the specific angular momentum vector (${\\bf \\vec h}$), perpendicular to the plane of motion.\n",
    "```{math}\n",
    ":label: L5_11\n",
    "{\\bf \\hat w} = \\frac{{\\bf \\vec h}}{|{\\bf \\vec h}|} = \\frac{{\\bf \\vec h}}{h}\n",
    "```\n",
    "\n",
    "3. The third vector,  ${\\bf \\hat q}$, is obtained by taking the cross product of  ${\\bf \\hat w}$ and  ${\\bf \\hat p}$. Recall that the cross product of two vectors yields a vector that is perpendicular to both, ensuring that (${\\bf \\hat p}$,${\\bf \\hat q}$,${\\bf \\hat w}$) is a set of three mutually perpendicular vectors. \n",
    "```{math}\n",
    ":label: L5_12\n",
    "{\\bf \\hat q} = {\\bf \\hat w} \\times {\\bf \\hat p}\n",
    "```\n",
    "\n"
   ]
  },
  {
   "cell_type": "markdown",
   "id": "fa7111c4",
   "metadata": {},
   "source": [
    "**Position Vector in the Perifocal Frame:**\n",
    "\n",
    "From Figure 5.2, \n",
    "```{math}\n",
    ":label: L5_13\n",
    "{\\bf \\vec r} = r\\cos(\\theta) {\\bf \\hat p} + r\\sin(\\theta) {\\bf \\hat q}\n",
    "```\n",
    "\n",
    "By substituting Equation \\ref{L5_2} for $r$ into the above equation and using the definition $p = h^2/\\mu$, we obtain: \n",
    "```{math}\n",
    ":label: L5_14\n",
    "{\\bf \\vec r} = \\frac{h^2/\\mu}{1+e\\cos(\\theta)} \\left[\\cos(\\theta) {\\bf \\hat p} + \\sin(\\theta) {\\bf \\hat q}\\right]\n",
    "```"
   ]
  },
  {
   "cell_type": "markdown",
   "id": "ef65d26f",
   "metadata": {},
   "source": [
    "**Velocity Vector in the Perifocal Frame:**\n",
    "\n",
    "The velocity vector (in the perifocal frame) is obtained by differentiating the position vector (in the perifocal frame), Equation \\ref{L5_13}, with respect to time.\n",
    "```{math}\n",
    ":label: L5_15\n",
    "{\\bf \\vec v} = \\frac{d{\\bf \\vec r}}{dt} = \\frac{d}{dt}\\left(r\\cos(\\theta) {\\bf \\hat p}\\right) + \\frac{d}{dt}\\left(r\\sin(\\theta) {\\bf \\hat q}\\right)\n",
    "```\n",
    "\n",
    "Applying the product rule to each term:\n",
    "```{math}\n",
    "\\frac{d}{dt} \\left( r\\cos(\\theta) {\\bf \\hat p} \\right) = \\dot{r} \\cos(\\theta) {\\bf \\hat p} + r \\left( -\\sin(\\theta) \\dot{\\theta} \\right) {\\bf \\hat p}\n",
    "```\n",
    "\n",
    "```{math}\n",
    "\\frac{d}{dt} \\left( r\\sin(\\theta) {\\bf \\hat q} \\right) = \\dot{r} \\sin(\\theta) {\\bf \\hat q} + r \\left( \\cos(\\theta) \\dot{\\theta} \\right) {\\bf \\hat q}\n",
    "```\n",
    "\n",
    "Combining these results:\n",
    "```{math}\n",
    "\\frac{d{\\bf \\vec r}}{dt} = \\left( \\dot{r} \\cos(\\theta) - r \\dot{\\theta} \\sin(\\theta) \\right) {\\bf \\hat p} + \\left( \\dot{r} \\sin(\\theta) + r \\dot{\\theta} \\cos(\\theta) \\right) {\\bf \\hat q}\n",
    "```\n",
    "\n",
    "Recalling that, $v_r = \\dot{r}$ and $v_\\theta = r\\dot{\\theta}$, from Equation \\ref{L5_1}, the expression for the velocity vector becomes:\n",
    "```{math}\n",
    "\\frac{d{\\bf \\vec r}}{dt} = \\left( v_r \\cos(\\theta) - v_\\theta \\sin(\\theta) \\right) {\\bf \\hat p} + \\left( v_r \\sin(\\theta) + v_\\theta \\cos(\\theta) \\right) {\\bf \\hat q}\n",
    "```\n",
    "\n",
    "By subsituting Equations \\ref{L5_6} and \\ref{L5_7} for $v_r$ and $v_\\theta$ respectively, and simplifying, we arrive at:\n",
    "```{math}\n",
    ":label: L5_16\n",
    "{\\bf \\vec v} = \\frac{d{\\bf \\vec r}}{dt} = \\frac{\\mu}{h}\\left(-\\sin(\\theta){\\bf \\hat p} + (e+\\cos(\\theta)){\\bf \\hat q} \\right)\n",
    "```\n",
    "\n",
    "With Equations \\ref{L5_14} and \\ref{L5_16}, we can express the position and velocity of the spacecraft in an inertial frame of reference."
   ]
  },
  {
   "cell_type": "markdown",
   "id": "79b5f18d",
   "metadata": {},
   "source": [
    "(content:the-eci-reference-frame)=\n",
    "## The ECI Reference Frame"
   ]
  },
  {
   "cell_type": "markdown",
   "id": "46988b76",
   "metadata": {},
   "source": [
    "Up to this point, we've described the orbit in its orbital plane, which is a 2D description. Although the perifocal frame is 3D, it is orbit-dependent. We seek a more general description. To define an inertial frame, we need:\n",
    "- An origin\n",
    "- The direction of two fixed normal vectors (the third is automatically determined by the cross product of the two known vectors). \n",
    "\n",
    "**Earth Centred Interial (ECI) Frame:**\n",
    "- Origin at the Earth's centre of mass\n",
    "- $z$-axis aligned with the Earth's spin axis\n",
    "- $x$-axis aligned with the first the **First Point of Aries**, $\\gamma$"
   ]
  },
  {
   "cell_type": "markdown",
   "id": "4f7a9fed",
   "metadata": {},
   "source": [
    "<div style=\"text-align: center;\">\n",
    "    <img src=\"L5fig3.png\" alt=\"Figure 5.3\" style=\"width:60%;\">\n",
    "    <p><strong>Figure 5.3:</strong> Diagram of the Earth's orbit around the Sun, showing the ecliptic and equatorial planes (the plane formed when the green line is extended radially outwards), the direction of the First Point of Aries, and the obliquity angle. \n",
    "</p>\n",
    "</div>"
   ]
  },
  {
   "cell_type": "markdown",
   "id": "d6dd34ef",
   "metadata": {},
   "source": [
    "**Key Terms:**\n",
    "- Ecliptic Plane: the plane of the Earth's orbit around the Sun\n",
    "- Equatorial Plane: the imaginary plane extending outwards from the Earth's celestial equator \n",
    "- **Vernal Equinox**:  the intersection line of the Earth's equatorial plane and the ecliptic plane, indicating the direction of the First Point of Aries\n",
    "- Obliquity ($\\epsilon$): the angle between the Earth's spin axis (normal to the equatorial plane) and the normal to the ecliptic plane"
   ]
  },
  {
   "cell_type": "markdown",
   "id": "4d996398",
   "metadata": {},
   "source": [
    "<div style=\"text-align: center;\">\n",
    "    <img src=\"L5fig4.png\" alt=\"Figure 5.4\" style=\"width:40%;\">\n",
    "    <p><strong>Figure 5.4:</strong> Diagram of Earth's orbit, illustrating ecliptic plane and celestial equator on the celestial sphere. The three orthogonal vectors that define the ECI frame have also been labelled.\n",
    "</p>\n",
    "</div>"
   ]
  },
  {
   "cell_type": "markdown",
   "id": "c55219d8",
   "metadata": {},
   "source": [
    "- As seen from Earth, the sun moves on the ecliptic counterclockwise.\n",
    "- The direction of the First Point of Aries is defined when the Sun crosses the equatorial plane from south to north."
   ]
  },
  {
   "cell_type": "markdown",
   "id": "ef079fb4",
   "metadata": {},
   "source": [
    "**Problem:** \n",
    "\n",
    "The coordinate system $(x,y,z)$ is not entirely inertial, due to:\n",
    "- Precession (and nutation) of the spin axis: Caused by the gravitational pull of the Sun and Moon combined with the Earth's oblateness.\n",
    "- Precession of the ecliptic plane: Due to the gravitational pull exerted by other planets on the Earth.\n",
    "- $\\gamma$ completes a full revolution in approximately 26,000 years, with a superimposed nutation of about 0.005° with a period of 18.6 years.\n",
    "\n",
    "**Solution:**\n",
    "\n",
    "To address this, we work with $(x,y,z)$ axes at a given epoch, for example, the ECI J2000 (or J2K) reference frame. "
   ]
  },
  {
   "cell_type": "markdown",
   "id": "efd8037b",
   "metadata": {},
   "source": [
    "**The Celestial Sphere**\n",
    "\n",
    "The celestial sphere is an imaginary, infinitely large sphere centered on the Earth, onto which all celestial objects are projected. The positions of these objects are defined by:\n",
    "1. **Right Ascension** ($\\alpha$): measured in the positive (+) direction eastward along the celestial equator from the vernal equinox.\n",
    "2. **Declination** ($\\delta$): measured in the positive (+) direction northward from the celestial equator."
   ]
  },
  {
   "cell_type": "markdown",
   "id": "0280a190",
   "metadata": {},
   "source": [
    "<div style=\"text-align: center;\">\n",
    "    <img src=\"L5fig5.png\" alt=\"Figure 5.5\" style=\"width:40%;\">\n",
    "    <p><strong>Figure 5.5:</strong> Diagram of the celestial sphere showing the right ascension ($\\alpha$) and declination ($\\delta$). \n",
    "</p>\n",
    "</div>"
   ]
  },
  {
   "cell_type": "markdown",
   "id": "fe407f09",
   "metadata": {},
   "source": [
    "(content:classical-orbital-parameters)=\n",
    "## Classical Orbital Parameters"
   ]
  },
  {
   "cell_type": "markdown",
   "id": "dfd0db32",
   "metadata": {},
   "source": [
    "A general orbit can often be described using what are known as the six \"classical orbital elements\".\n",
    "\n",
    "- The orbit's shape is defined entirely by the **semi-major axis** ($a$) and **eccentricity** ($e$), which are both constants.\n",
    "- The position along the orbit is given by the **true anomaly**, $\\theta(t)$. This is solved for with Kepler's Equation. "
   ]
  },
  {
   "cell_type": "markdown",
   "id": "cf4ececb",
   "metadata": {},
   "source": [
    "<div style=\"text-align: center;\">\n",
    "    <img src=\"L5fig6.png\" alt=\"Figure 5.6\" style=\"width:35%;\">\n",
    "    <p><strong>Figure 5.6:</strong> Diagram illustrating the classical orbital parameters.  \n",
    "</p>\n",
    "</div>"
   ]
  },
  {
   "cell_type": "markdown",
   "id": "d7e51111",
   "metadata": {},
   "source": [
    "For a complete 3D representation, two additional parameters define the orbital plane, and another parameter specifies the orientation of the line of apsides within that plane.\n",
    "\n",
    "The Orientiation of the Plane: \n",
    "- **Right Ascension of Ascending Node** ($\\Omega$, also referred to as the Longitude of Ascending Node), represents the angle from the \n",
    "$x$-axis to the intersection point (the ascending node) of the equatorial and orbital planes. It varies between $0\\degree$ and $360\\degree$ (i.e., $\\epsilon[0,360]$).\n",
    "- **Inclination** ($i$), is the angle between the equatorial and orbital planes. Though $\\epsilon[0,180]$, \n",
    "    - the orbit is prograde when $0\\degree < i < 90\\degree$ \n",
    "    - the orbit is retrograde when $90\\degree < i < 180\\degree$ \n",
    "\n",
    "The Direction of Perigee:\n",
    "- **Argument of perigee** ($\\omega$), is the angle between the ascending node and the perigee. Remember when $e=0$, there is not a single point in the orbit closest to the central body as it's a circular orbit. $\\epsilon[0,360]$"
   ]
  },
  {
   "cell_type": "markdown",
   "id": "d8e61d69",
   "metadata": {},
   "source": [
    "<div style=\"text-align: center;\">\n",
    "    <img src=\"L5fig7.png\" alt=\"Figure 5.7\" style=\"width:45%;\">\n",
    "    <p><strong>Figure 5.7:</strong> Diagram illustrating the key parameters and angles used to describe an orbital plane in a three-dimensional coordinate system. \n",
    "</p>\n",
    "</div>"
   ]
  },
  {
   "cell_type": "markdown",
   "id": "8d34b25e",
   "metadata": {},
   "source": [
    "Using Figure 5.7, \n",
    "\n",
    "- $\\Omega$ is the angle between ${\\bf \\hat I}$ and the line of nodes ${\\bf \\hat n}$. Recall that the line of nodes connects the ascending and descending nodes, which are the points where the orbital plane intersects the equatorial reference frame. Therefore, the line of nodes lies in both planes and is perpendicular to the normal vectors of both the reference plane and the orbital plane. In other words:\n",
    "$${\\bf \\hat n} = {\\bf \\hat K} \\times {\\bf \\vec h} \\$$\n",
    "- $i$ is the angle between ${\\bf \\vec h}$ and ${\\bf \\hat K}$\n",
    "- $\\omega$ is the angle between ${\\bf \\vec e}$ and ${\\bf \\vec n}$\n",
    "\n",
    "**Note:**\n",
    "- Given $h, e = const$, we are able to say $a$, $e$, $i$, $\\omega$ and $\\Omega$ are all constants. \n",
    "- The only orbital parameter that varies with time is $\\theta$, which is determined by solving Kepler's equation."
   ]
  }
 ],
 "metadata": {
  "kernelspec": {
   "display_name": "Python 3 (ipykernel)",
   "language": "python",
   "name": "python3"
  },
  "language_info": {
   "codemirror_mode": {
    "name": "ipython",
    "version": 3
   },
   "file_extension": ".py",
   "mimetype": "text/x-python",
   "name": "python",
   "nbconvert_exporter": "python",
   "pygments_lexer": "ipython3",
   "version": "3.10.13"
  }
 },
 "nbformat": 4,
 "nbformat_minor": 5
}

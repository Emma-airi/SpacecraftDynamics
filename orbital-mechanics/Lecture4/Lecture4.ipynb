{
 "cells": [
  {
   "cell_type": "markdown",
   "id": "8def51c5-f741-4b80-8785-b30772a4c134",
   "metadata": {},
   "source": [
    "# **Lecture 4**"
   ]
  },
  {
   "cell_type": "markdown",
   "id": "2c9c8d74-5c73-42f1-b00a-fb07a6fc9f95",
   "metadata": {},
   "source": [
    "In this lecture we aim to cover the following topics:\n",
    "1. [Properties of Circular Orbits](#Properties-of-Circular-Orbits)\n",
    "3. [Orbital Period (Kepler's 3rd Law)](#Orbital-Period-(Kepler's-3rd-Law))\n",
    "4. [Time Equation](#Time-Equation)"
   ]
  },
  {
   "cell_type": "markdown",
   "id": "e5ed51e9-7b50-45b4-bf13-44a5d812f96c",
   "metadata": {
    "editable": true,
    "slideshow": {
     "slide_type": ""
    },
    "tags": []
   },
   "source": [
    "## Properties of Circular Orbits"
   ]
  },
  {
   "cell_type": "markdown",
   "id": "8f67ff0d-06db-4c66-ad3e-e538138aba08",
   "metadata": {},
   "source": [
    "### 1. Orbital Radius ($r$)"
   ]
  },
  {
   "cell_type": "markdown",
   "id": "dfe69a79-5fe0-4277-b8ba-fb2ddf431ba9",
   "metadata": {},
   "source": [
    "\n",
    "From Lecture 3, the **equation of the orbit** based on the semi-latus rectum ($p$) is defined as follows: $$r = \\frac{p}{1 + e \\cos (\\theta)} \\tag{4.1}$$\n",
    "For a circular orbit, the eccentricity ($e$) is 0. Substituting $e = 0$ into Equation $(4.1)$ simplifies it to: $$r = p \\tag{4.2}$$\n",
    "In this case, the semi-latus rectum ($p$) is equal to the semi-major axis ($a$), since: $$p = a(1-e^2) = a \\tag{4.3}$$\n",
    "Thus, for a circular orbit, $$r = p = a= const \\tag{4.4}$$"
   ]
  },
  {
   "cell_type": "markdown",
   "id": "94b3086e-8ac4-4889-bd20-d43898fff1da",
   "metadata": {},
   "source": [
    "### 2. Orbital Velocity ($v$)"
   ]
  },
  {
   "cell_type": "markdown",
   "id": "fbc98877-6aa6-49f2-88f7-c13fde2662ef",
   "metadata": {},
   "source": [
    "Equation $(4.5)$ gives the **vis-viva equation**, which relates the orbital velocity ($v$) of an object to its distance from the planet's center ($r$) and the semi-major axis ($a$) of its orbit. $$v^2 = \\mu \\left( \\frac{2}{r} - \\frac{1}{a} \\right) \\tag{4.5}$$\n",
    "For a circular orbit, the relationship between $r$ and $a$ has been defined in Equation $(4.4)$. Substituting this into Equation $(4.5)$ yields the following equation for the orbital velocity: $$v = \\sqrt{\\frac{\\mu}{a}} \\tag{4.6}$$"
   ]
  },
  {
   "cell_type": "markdown",
   "id": "5021df4d-24de-4c42-ab29-f058772fd70a",
   "metadata": {},
   "source": [
    "### 3. Angular Velocity ($\\dot{\\theta}$)"
   ]
  },
  {
   "cell_type": "markdown",
   "id": "3dc77665-7b67-4513-92e4-2752d68b2f27",
   "metadata": {},
   "source": [
    "From lecture 2, the velocity vector in polar coordinates is expressed as: \n",
    "$${\\bf v} = v_r{\\bf e}_r + v_\\theta{\\bf e}_\\theta  = \\dot r{\\bf e}_r + r \\dot \\theta{\\bf e}_\\theta \\tag{4.7}$$\n",
    "\n",
    "Since radius $r$ is a constant, as provided in Equation $(4.4)$, the radial component of ${\\bf v}$ is 0:\n",
    "$$v_r = \\dot r = \\frac{dr}{dt} = 0 \\tag{4.8}$$\n",
    "\n",
    "Therefore, the velocity vector simplifies to include only the angular component: \n",
    "$${\\bf v} = r \\dot \\theta{\\bf e}_\\theta \\tag{4.9}$$\n",
    "\n",
    "By equating the magnitude $r \\dot \\theta$ to Equation $(4.6)$ and rearranging to solve for angular velocity:\n",
    "$$v = r \\dot \\theta = a \\dot \\theta = \\sqrt{\\frac{\\mu}{a}} $$\n",
    "$$\\dot \\theta = \\sqrt{\\frac{\\mu}{a^3}} \\tag{4.10}$$\n",
    "\n",
    "As $a = const$, Equation $(4.10)$ proves that the angular velocity is also a constant."
   ]
  },
  {
   "cell_type": "markdown",
   "id": "57859e1f-22cb-47bd-860f-35f8a28ea248",
   "metadata": {},
   "source": [
    "### 4. Orbital Period ($T$)"
   ]
  },
  {
   "cell_type": "markdown",
   "id": "f156a8bc-ac62-44ec-ab6c-4a83db4af3e2",
   "metadata": {},
   "source": [
    "Equation $(4.10)$ is used to define the orbital time period as:\n",
    "$$T = \\frac{2\\pi}{\\dot \\theta} = 2\\pi\\sqrt{\\frac{a^3}{\\mu}} \\tag{4.11}$$"
   ]
  },
  {
   "cell_type": "markdown",
   "id": "a7aa7337-8774-4ac7-afa7-6788aa3e9a32",
   "metadata": {},
   "source": [
    "## Orbital Period (Kepler's 3rd Law)"
   ]
  },
  {
   "cell_type": "markdown",
   "id": "6acdda38-4808-46d3-8afb-cb02a6ee9a2f",
   "metadata": {
    "editable": true,
    "slideshow": {
     "slide_type": ""
    },
    "tags": []
   },
   "source": [
    "**Kepler's 2nd law** of planetary motion, introduced in Lecture 2, states that an object in orbit sweeps out equal areas in equal time intervals, meaning the areal velocity is constant. This law is expressed in terms of specific angular momentum ($h$) as: \n",
    "$$\\frac{dA}{dt} = \\frac{1}{2}h = const \\tag{4.12}$$\n",
    "\n",
    "Given that $h = \\sqrt{\\mu p}$ and $p = a(1-e^2)$, Equation $(4.12)$ can be rewritten as: \n",
    "$$\\frac{dA}{dt} = \\frac{1}{2}\\sqrt{\\mu a (1-e^2)} \\tag{4.13}$$\n",
    "\n",
    "The orbital period ($T$) is the time the spacecraft takes to complete a full revolution. During this period, the spacecraft sweeps out the entire area of the ellipse, which is given by: \n",
    "$$A_T = \\pi ab = \\pi a^2 \\sqrt{1-e^2}\\tag{4.14}$$\n",
    "\n",
    "Using Equation $(4.14)$, the areal velocity can be expressed as: \n",
    "$$\\frac{dA}{dt} = \\frac{A_T}{T} = \\frac{\\pi a^2 \\sqrt{1-e^2}}{T}\\tag{4.15}$$\n",
    "\n",
    "Equating Equations $(4.13)$ and $(4.15)$ to derive an equation for the orbital period and then rearranging gives: \n",
    "$$T = 2\\pi \\sqrt{\\frac{a^3}{\\mu}} \\tag{4.16}$$\n",
    "\n",
    "The equation above defines **Kepler's 3rd law**, which states that the square of the orbital period is proportional to the cube of the semi-major axis (i.e., $T^2 \\propto a^3$).\n",
    "- $T$ can be used to measure $m_2$ (the mass of the central body)\n",
    "- $T$ (and energy) are independent of the eccentricity of the orbit\n",
    "\n",
    "Defining the **mean motion** ($n$) as $2\\pi/T$, Equation $(4.16)$ can be alternatively expressed as:\n",
    "$$n^2 a^3 = \\mu \\tag{4.17}$$"
   ]
  },
  {
   "cell_type": "markdown",
   "id": "e6e852b0-f296-448a-bcc0-a09d62b0f961",
   "metadata": {},
   "source": [
    "## Time Equation"
   ]
  },
  {
   "cell_type": "markdown",
   "id": "e93085cd-90d3-4610-92f7-b8ed0e06ff7a",
   "metadata": {},
   "source": [
    "### The Objective"
   ]
  },
  {
   "cell_type": "markdown",
   "id": "33417b5b-dff4-455a-926b-f0360775b435",
   "metadata": {},
   "source": [
    "Equation $(4.1)$ represnts **Kepler's 1st law**, which states that the orbit of a planet is an ellipse with the sun at one of its two foci. This equation provides $r(\\theta)$, but it does not give the position as a function of time, i.e., $r(t)$. \n",
    "\n",
    "The goal here is to determine $\\theta(t)$, so that we can find $r(\\theta(t))$, which gives us $r(t)$. "
   ]
  },
  {
   "cell_type": "markdown",
   "id": "0d8f6109-2cef-4ad9-aa99-7292ebff4c2a",
   "metadata": {},
   "source": [
    "### Derivation  "
   ]
  },
  {
   "cell_type": "markdown",
   "id": "1ec19270-0eb6-4227-81ae-05d22ede88ae",
   "metadata": {},
   "source": [
    "Starting with the definition of the specific angular momentum, $h = r^2 \\dot\\theta$, and substituting Equation $(4.1)$ for $r$, then rearranging to solve for $\\dot \\theta$ results in Equation $(4.18)$. Note that Equation $(4.1)$ was originally expressed in terms of the semi-latus rectum ($p$), but in the following steps, $p$ has been replaced with $\\frac{h^2}{\\mu}$ as per the definition. \n",
    "$$\\dot \\theta = \\frac{d\\theta}{dt} = \\frac{h}{r^2} = \\frac{\\mu^2}{h^3}\\bigl(1+e\\cos(\\theta)\\bigl)^2 \\tag{4.18}$$\n",
    "\n",
    "Rearrange the above to seperate variables $\\theta$ and $t$ and then integrate:\n",
    "$$ \\int \\frac{d\\theta}{\\bigl(1+e\\cos(\\theta)\\bigl)^2} = \\int \\frac{\\mu^2}{h^3}dt \\tag{4.19}$$\n",
    "\n",
    "The integration results in: \n",
    "$$ \\frac{\\mu^2}{h^3}(t-t_p) = \\int_{0}^{\\theta} \\frac{d\\theta}{\\bigl(1+e\\cos(\\theta)\\bigl)^2} \\tag{4.20}$$\n",
    "\n",
    "Note:\n",
    "- $t_p$ is the time of perigee passage, which is the specific moment when the orbiting object is closest to the primary body it is orbiting. For simplicity, we assume $t_p = 0$.\n",
    "-  The **true anomaly** ($\\theta$) is measured from the eccentricity vector ($\\bf{e}$), which is aligned with the line of apsides and points towards the perigee. By assuming $t_p = 0$ we have $\\theta(t_p) = \\theta(0) = 0$.\n",
    "-  Solving Equation $(4.20)$ results in $\\theta(t)$. We defined this as our [objective](#The-Objective)."
   ]
  },
  {
   "cell_type": "markdown",
   "id": "7ceff4a8-7e4f-4303-bb38-21b2ec86f0c5",
   "metadata": {},
   "source": [
    "### 1. Circular Orbits"
   ]
  },
  {
   "cell_type": "markdown",
   "id": "44195401-9d4b-4f19-a786-a737f1c507b2",
   "metadata": {},
   "source": [
    "Given $e = 0$ for circular orbits and the assumed $t_p= 0$, Equation $(4.20)$ is reduced to:\n",
    "$$\\frac{\\mu^2}{h^3}t = \\theta \\tag{4.21}$$\n",
    "\n",
    "Since $p = h^2/\\mu$ and that $p = a = const$ for [Circular Orbits](#Properties-of-Circular-Orbits), the above may be expressed in terms of $a$ as follows:\n",
    "$$\\theta = \\frac{\\mu^2}{(\\mu a)^\\frac{3}{2}}t = \\frac{\\mu^\\frac{1}{2}}{(a)^\\frac{3}{2}}t \\tag{4.22}$$\n",
    "\n",
    "This relation can be further simplified using Kepler's third law, Equation $(4.16)$ and compactly expressed in terms of the mean motion $n$,\n",
    "$$\\theta = \\frac{2\\pi}{T}t = nt \\tag{4.23}$$ "
   ]
  },
  {
   "cell_type": "markdown",
   "id": "b4d659cd-a0e8-4d91-9d54-01a310905068",
   "metadata": {},
   "source": [
    "### 2. Elliptical Orbits"
   ]
  },
  {
   "cell_type": "markdown",
   "id": "31d5ac59-d347-4abf-8124-9ad261feb9a1",
   "metadata": {},
   "source": [
    "Given $0<e<1$ for elliptical orbits and assuming $t_p = 0$, Equation $(4.20)$ evaluates to:\n",
    "$$ \\frac{\\mu^2}{h^3}t = \\frac{1}{(1 - e^2)^\\frac{3}{2}}\\Biggr[2\\tan^{-1}\\bigl(\\sqrt{\\frac{1-e}{1+e}}\\tan(\\frac{\\theta}{2})\\bigl) - \\frac{e\\sqrt{1-e^2}\\sin(\\theta)}{1+e\\cos(\\theta)}\\Biggr]$$\n",
    "\n",
    "By multiplying out the denominator term on the right-hand side of the equation, we obtain:\n",
    "$$ \\frac{\\mu^2}{h^3}(1 - e^2)^\\frac{3}{2}t = 2\\tan^{-1}\\bigl(\\sqrt{\\frac{1-e}{1+e}}\\tan(\\frac{\\theta}{2})\\bigl) - \\frac{e\\sqrt{1-e^2}\\sin(\\theta)}{1+e\\cos(\\theta)} \\tag{4.24}$$"
   ]
  },
  {
   "cell_type": "markdown",
   "id": "be4e93a3-7aa1-4981-8c7a-675bff1ed5ab",
   "metadata": {},
   "source": [
    "#### Mean Anomaly"
   ]
  },
  {
   "cell_type": "markdown",
   "id": "57c07412-05b9-40d7-a0bb-415264877db6",
   "metadata": {},
   "source": [
    "From Equation $(4.24)$, we define an angular parameter for elliptical orbits called the **mean anomaly** ($M_e$) as follows: \n",
    "$$M_e = \\frac{\\mu^2}{h^3}(1 - e^2)^\\frac{3}{2}t \\tag{4.25}$$\n",
    "\n",
    "Recall:\n",
    "1. From [Orbital Period (Kepler's 3rd Law)](#Orbital-Period-(Kepler's-3rd-Law)), $T = 2\\pi \\sqrt{\\frac{a^3}{\\mu}}$\n",
    "2. From Lecture 3, $p = a(1-e^2) = h^2/\\mu$\n",
    "\n",
    "Rearranging (2): $$a = \\frac{h^2}{\\mu(1-e^2)}$$\n",
    "Substituting this into (1) for $a$: \n",
    "$$T = 2\\pi \\sqrt{\\frac{h^6}{\\mu^3(1-e^2)^3}\\frac{1}{\\mu}} = 2\\pi \\frac{h^3}{\\mu^2(1-e^2)^\\frac{3}{2}}$$\n",
    "Rearranging the above to express it as:\n",
    "$$\\frac{2\\pi}{T} = \\frac{\\mu^2}{h^3}(1-e^2)^\\frac{3}{2} \\tag{4.26}$$\n",
    "\n",
    "Substituting Equation $(4.26)$ and subsequently the definition of mean motion ($n$) into Equation $(4.25)$, it can be reduced to:\n",
    "$$M_e = \\frac{2\\pi}{T}t = nt\\tag{4.27}$$\n",
    "\n",
    "- From this definition, the mean anomaly can be interpreted as the angular position of a fictitious body moving around the ellipse at constant angular speed $n$.\n",
    "- This hypothetical body travels around the orbit in such a way (with constant angular speed) that it completes one full revolution in the same period $T$ as the actual body.\n",
    "- The real body in an elliptical orbit, however, would speed up and slow down due to gravitational forces, whilst holding the areal velocity constant (i.e., Kepler's 2nd Law)."
   ]
  },
  {
   "cell_type": "markdown",
   "id": "05fa64bf-9abd-4b36-b60b-59b1ae1ee478",
   "metadata": {},
   "source": [
    "#### Kepler's Equation"
   ]
  },
  {
   "cell_type": "markdown",
   "id": "7b9ed228-1719-4baf-9c33-da3c6044a58b",
   "metadata": {},
   "source": [
    "Our objective here is to simplify Equation $(4.24)$. \n",
    "\n"
   ]
  },
  {
   "cell_type": "markdown",
   "id": "c3b72b7a-fa87-429d-8af0-0a9d90b3ba86",
   "metadata": {},
   "source": [
    "<div style=\"text-align: center;\">\n",
    "    <img src=\"L4fig1.jpg\" alt=\"Figure 1\" style=\"width:50%;\">\n",
    "    <p><strong>Figure 1:</strong> An ellipse (with semi-major axis \\(a\\)) and circumscribed reference circle (of radius \\(a\\)).\n",
    "</p>\n",
    "</div>\n"
   ]
  },
  {
   "cell_type": "markdown",
   "id": "b56aa046-afe1-4e34-8a8a-a39e938555bc",
   "metadata": {},
   "source": [
    "In Figure 1, the semi-major axis of the orbital ellipse is equal to the radius of the circumscribed circle. An additional angle, called the **eccentric anomaly** ($E$), is introduced. Similar to the true anomaly ($\\theta$), $E$ is measured from the line of apsides and represents the angular position of the orbiting body as it would appear projected onto the reference circle.  From this diagram, the following geometrical relationships can be derived:\n",
    "\n",
    "1. ${\\bf OV} = a\\cos(E)$\n",
    "2. ${\\bf OV} = {\\bf OF} + {\\bf FV} = ae + r\\cos(\\theta)$\n",
    "\n",
    "Setting (1) = (2):\n",
    "$$a\\cos(E) = ae + r\\cos(\\theta)$$\n",
    "\n",
    "Substituting Equation $(4.1)$ for $r$ into the above and recalling that $p = a(1-e^2)$:\n",
    "$$a\\cos(E) = ae + \\frac{p}{1+e\\cos(\\theta)}\\cos(\\theta) = ae + \\frac{a(1-e^2)}{1+e\\cos(\\theta)}\\cos(\\theta)$$\n",
    "\n",
    "Further simplifying:\n",
    "$$\\cos(E) = e + \\frac{(1-e^2)}{1+e\\cos(\\theta)}\\cos(\\theta)= \\frac{e + \\cos(\\theta)}{1 + e\\cos(\\theta)} \\tag{4.28}$$\n",
    "\n",
    "Using the trigonometric identity: $\\sin^2(E) + \\cos^2(E) = 1$, we derive an equation for $\\sin(E)$:\n",
    "$$\\sin(E) = \\frac{\\sqrt{1-e^2}\\sin(\\theta)}{1 + e\\cos(\\theta)} \\tag{4.29}$$\n",
    "\n",
    "- Both $\\cos(E)$ and $\\sin(E)$ exhibit ambiguity because a single value of $\\theta$ can correspond to two possible values of $E$.\n",
    "- To resolve this quadrant ambiguity, we introduce $\\tan^2(\\frac{E}{2})$.\n",
    "\n",
    "Recall the half-angle formula for tangent:\n",
    "$$\\tan^2(\\frac{E}{2}) = \\frac{1-\\cos(E)}{1+\\cos(E)}$$\n",
    "\n",
    "Evaluate the above by substituting Equation $(4.28)$ for $\\cos(E)$. This results in:\n",
    "$$\\tan^2(\\frac{E}{2}) = \\frac{1-e}{1+e}\\tan^2(\\frac{\\theta}{2})$$\n",
    "$$\\tan(\\frac{E}{2}) = \\sqrt{\\frac{1-e}{1+e}}\\tan(\\frac{\\theta}{2}) \\tag{4.30}$$\n",
    "\n",
    "Equation $(4.24)$ can be expressed in terms of Equations $(4.29)$ and $(4.30)$:\n",
    "$$ \\frac{\\mu^2}{h^3}(1 - e^2)^\\frac{3}{2}t = 2\\tan^{-1}\\bigl(\\tan(\\frac{E}{2})\\bigl) - e\\sin(E)$$\n",
    "$$M_e = E - e\\sin(E) \\tag{4.31}$$\n",
    "\n",
    "This is **Kepler's equation**. Kepler's equation can alternatively be expressed as follows, since $M_e$ can be represented in terms of the mean motion ($n$) as either $nt$ or more generally as $n(t - t_p)$:\n",
    "$$n(t-t_p) = E - e\\sin(E) \\tag{4.32}$$\n",
    "\n",
    "Kepler's equation is essential for determining the angular position of an orbiting body at a specific time or calculating the time it takes for the body to reach a particular point in its orbit. These two scenarios are considered below:\n",
    "\n",
    "To determine the time since perigee passage given $\\theta$:\n",
    "  1. Calculate the eccentric anomaly $E$ using Equation $(4.30)$.\n",
    "  2. Compute the mean anomaly $M_e$ from Kepler's equation.\n",
    "  3. Determine the mean motion $n$ using $n = 2\\pi/T$ or Equation $(4.17)$.\n",
    "  4. Find the time since perigee passage with $t-t_p = M_e/n$.\n",
    "\n",
    "To determine $\\theta$ at a given time:\n",
    "  1. Compute the mean motion $n$ using $n = 2\\pi/T$ or Equation $(4.17)$.\n",
    "  2. Calculate the mean anomaly $M_e = n(t-t_p)$.\n",
    "  3. Solve Kepler's equation numerically to find the eccentric anomaly $E$.\n",
    "  4. Compute $\\theta$ from Equation $(4.30)$"
   ]
  }
 ],
 "metadata": {
  "kernelspec": {
   "display_name": "Python 3 (ipykernel)",
   "language": "python",
   "name": "python3"
  },
  "language_info": {
   "codemirror_mode": {
    "name": "ipython",
    "version": 3
   },
   "file_extension": ".py",
   "mimetype": "text/x-python",
   "name": "python",
   "nbconvert_exporter": "python",
   "pygments_lexer": "ipython3",
   "version": "3.10.13"
  }
 },
 "nbformat": 4,
 "nbformat_minor": 5
}
